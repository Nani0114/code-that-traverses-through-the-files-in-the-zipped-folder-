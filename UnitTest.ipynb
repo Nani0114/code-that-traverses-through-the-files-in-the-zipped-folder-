{
 "cells": [
  {
   "cell_type": "code",
   "execution_count": 1,
   "id": "f896619e-6a12-4f25-9f04-99846343c403",
   "metadata": {},
   "outputs": [],
   "source": [
    "import unittest"
   ]
  },
  {
   "cell_type": "code",
   "execution_count": 2,
   "id": "4e826416-93b7-4ff0-adb7-c7dd386a0f2f",
   "metadata": {},
   "outputs": [],
   "source": [
    "import os.path"
   ]
  },
  {
   "cell_type": "code",
   "execution_count": 3,
   "id": "db2d3ba0-6f8f-479e-916e-b82c1e961f41",
   "metadata": {},
   "outputs": [],
   "source": [
    "from os import path"
   ]
  },
  {
   "cell_type": "code",
   "execution_count": 4,
   "id": "2bb9cf44-c6bc-4160-89cd-7ef4a260e0ad",
   "metadata": {},
   "outputs": [],
   "source": [
    "path='sample_Test/Test_Name'      "
   ]
  },
  {
   "cell_type": "code",
   "execution_count": 7,
   "id": "df3ef68f-4f77-4e41-9083-7631bebf9cb5",
   "metadata": {},
   "outputs": [],
   "source": [
    "class TestFunction(unittest.TestCase):\n",
    "    def test_path(self):\n",
    "        if not path.exists(path):\n",
    "            raise FileNotFoundError('No Such directory found')"
   ]
  },
  {
   "cell_type": "code",
   "execution_count": null,
   "id": "d33f8fd8-b109-43ea-a879-d07f34094d94",
   "metadata": {},
   "outputs": [],
   "source": []
  }
 ],
 "metadata": {
  "kernelspec": {
   "display_name": "Python 3 (ipykernel)",
   "language": "python",
   "name": "python3"
  },
  "language_info": {
   "codemirror_mode": {
    "name": "ipython",
    "version": 3
   },
   "file_extension": ".py",
   "mimetype": "text/x-python",
   "name": "python",
   "nbconvert_exporter": "python",
   "pygments_lexer": "ipython3",
   "version": "3.9.12"
  }
 },
 "nbformat": 4,
 "nbformat_minor": 5
}
