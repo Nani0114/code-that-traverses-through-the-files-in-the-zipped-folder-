{
 "cells": [
  {
   "cell_type": "code",
   "execution_count": 1,
   "id": "9cf06a22-b6cf-4240-836e-7e5d2be0cb32",
   "metadata": {},
   "outputs": [],
   "source": [
    "import os"
   ]
  },
  {
   "cell_type": "code",
   "execution_count": 2,
   "id": "f39a0b3e-56af-4675-a28f-54cee6a14f98",
   "metadata": {},
   "outputs": [],
   "source": [
    "import pandas as pd"
   ]
  },
  {
   "cell_type": "code",
   "execution_count": 3,
   "id": "a06b2c17-ec81-46eb-917e-5a04f0bc6550",
   "metadata": {},
   "outputs": [],
   "source": [
    "from numpy.lib.shape_base import split"
   ]
  },
  {
   "cell_type": "code",
   "execution_count": null,
   "id": "35912fe8-f752-44eb-9af3-324408d97455",
   "metadata": {},
   "outputs": [],
   "source": [
    "def ReadDirFile(DirPath):   #pass the Directory path to the function\n",
    "    df=pd.DataFrame(column=['Source IP','Environment'] #Create a Blank DataFrame\n",
    "    Dict = {}\n",
    "    path = DirPath   #path of the Directory\n",
    "    for file in os.listdir(path):\n",
    "        if (file.endswith('.csv') or file.endswith('.CSV')) and not (file.startswith('combined')):  #Check the format of the file as only .csv and ignore combined file\n",
    "            read_file=pd.read_cvs(path + '/' + file, usecols = ['Source IP'] , dtype = str) #Read the csv files\n",
    "            fileName = file.split()[0] + 'prod'  #Split the filename as required for Environment columns\n",
    "            for i in read_file:         #Transverse into dataframe where the file data is residing          \n",
    "                Dict['Source IP']= read_file[i]   # Store the source IP column data into Dict Source IP Key\n",
    "                Dict['Environment']=fileName.replace('.csv','')    # store the file name column data into dict Environment key\n",
    "            df= df.append(pd.DataFrame.from_Dict(Dict), ignore_index=True)  #convert the dict into DataFrame and append into df  \n",
    "    df.to_csv(DirPath +'/'+\"combined.csv\",index=False)   #convert the dataframe into csv and save into the directory\n",
    "\n",
    "path='sample_Test/Test_Name'     ----# provide the path of the directory in the variable\n",
    "ReadDirFile(path)     # Call teh function"
   ]
  },
  {
   "cell_type": "code",
   "execution_count": null,
   "id": "370330fe-fbbc-4e8e-b873-d757aad963fd",
   "metadata": {},
   "outputs": [],
   "source": []
  }
 ],
 "metadata": {
  "kernelspec": {
   "display_name": "Python 3 (ipykernel)",
   "language": "python",
   "name": "python3"
  },
  "language_info": {
   "codemirror_mode": {
    "name": "ipython",
    "version": 3
   },
   "file_extension": ".py",
   "mimetype": "text/x-python",
   "name": "python",
   "nbconvert_exporter": "python",
   "pygments_lexer": "ipython3",
   "version": "3.9.12"
  }
 },
 "nbformat": 4,
 "nbformat_minor": 5
}
